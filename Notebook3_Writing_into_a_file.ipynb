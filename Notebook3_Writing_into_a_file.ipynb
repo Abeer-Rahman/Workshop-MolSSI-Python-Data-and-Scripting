{
  "cells": [
    {
      "cell_type": "markdown",
      "metadata": {
        "id": "view-in-github",
        "colab_type": "text"
      },
      "source": [
        "<a href=\"https://colab.research.google.com/github/Abeer-Rahman/Workshop-MolSSI-Python-Data-and-Scripting/blob/main/Notebook3_Writing_into_a_file.ipynb\" target=\"_parent\"><img src=\"https://colab.research.google.com/assets/colab-badge.svg\" alt=\"Open In Colab\"/></a>"
      ]
    },
    {
      "cell_type": "markdown",
      "metadata": {
        "id": "1h7VwKj6R3Y6"
      },
      "source": [
        "# Homework 3\n",
        "\n",
        "We will perform the followings:\n",
        "\n",
        " Write the energies from list `energies` to a file called `Etot.txt` for 03_Prod.mdout input file. Each value should be on it's own line.\n",
        "\n"
      ]
    },
    {
      "cell_type": "code",
      "execution_count": 1,
      "metadata": {
        "id": "u8gzQD7xR3Y_"
      },
      "outputs": [],
      "source": [
        "# Open the file\n",
        "import os\n",
        "import sys"
      ]
    },
    {
      "cell_type": "code",
      "execution_count": 3,
      "metadata": {
        "id": "HMhBIJv4R3ZB"
      },
      "outputs": [],
      "source": [
        "filename = '/content/03_Prod.mdout'\n",
        "output_name='Etot.txt'\n",
        "f = open(filename, 'r')"
      ]
    },
    {
      "cell_type": "code",
      "execution_count": 4,
      "metadata": {
        "colab": {
          "base_uri": "https://localhost:8080/"
        },
        "id": "0WrdhOyvR3ZC",
        "outputId": "ee4b705d-738c-4f9b-c7b7-cd0f871b8b5c"
      },
      "outputs": [
        {
          "output_type": "stream",
          "name": "stdout",
          "text": [
            "Analyzing/content/03_Prod.mdout\n"
          ]
        }
      ],
      "source": [
        "data = f.readlines()\n",
        "print(F\"Analyzing{filename}\")\n",
        "f.close()"
      ]
    },
    {
      "cell_type": "code",
      "source": [
        "energies = []\n",
        "# Look through lines and find 'Etot'\n",
        "for line in data:\n",
        "    if \"Etot\" in line:\n",
        "        #print(line)\n",
        "        split_line = line.split()\n",
        "        #print(split_line)\n",
        "\n",
        "        # Get number after equals sign\n",
        "        number = split_line[2]\n",
        "\n",
        "        # Cast number as a decimal (float)\n",
        "        # Put number in list\n",
        "        number = float(number)\n",
        "        energies.append(number)\n",
        "energy_file=open(F\"{output_name}\",\"w+\")\n",
        "for energy in energies:\n",
        "    energy_file.write(F\"{energy}\\n\")\n",
        "energy_file.close()"
      ],
      "metadata": {
        "id": "xnmScchLUU8T"
      },
      "execution_count": 5,
      "outputs": []
    }
  ],
  "metadata": {
    "kernelspec": {
      "display_name": "Python 3",
      "language": "python",
      "name": "python3"
    },
    "language_info": {
      "codemirror_mode": {
        "name": "ipython",
        "version": 3
      },
      "file_extension": ".py",
      "mimetype": "text/x-python",
      "name": "python",
      "nbconvert_exporter": "python",
      "pygments_lexer": "ipython3",
      "version": "3.8.10"
    },
    "colab": {
      "provenance": [],
      "include_colab_link": true
    }
  },
  "nbformat": 4,
  "nbformat_minor": 0
}