{
  "cells": [
    {
      "cell_type": "markdown",
      "metadata": {
        "id": "view-in-github",
        "colab_type": "text"
      },
      "source": [
        "<a href=\"https://colab.research.google.com/github/Abeer-Rahman/Workshop-MolSSI-Python-Data-and-Scripting/blob/main/Notebook_5_Data_fitting_with_scipy.ipynb\" target=\"_parent\"><img src=\"https://colab.research.google.com/assets/colab-badge.svg\" alt=\"Open In Colab\"/></a>"
      ]
    },
    {
      "cell_type": "markdown",
      "id": "56419733",
      "metadata": {
        "id": "56419733"
      },
      "source": [
        "## Data fittng lesson\n",
        "Fit data to any functional form"
      ]
    },
    {
      "cell_type": "code",
      "execution_count": null,
      "id": "b5bff922",
      "metadata": {
        "ExecuteTime": {
          "end_time": "2024-05-09T18:36:19.627293Z",
          "start_time": "2024-05-09T18:36:18.663642Z"
        },
        "id": "b5bff922"
      },
      "outputs": [],
      "source": [
        "import numpy as np\n",
        "import pandas as pd\n",
        "import matplotlib.pyplot as plt\n"
      ]
    },
    {
      "cell_type": "code",
      "execution_count": null,
      "id": "1a88ddcc",
      "metadata": {
        "ExecuteTime": {
          "end_time": "2024-05-09T18:36:19.635077Z",
          "start_time": "2024-05-09T18:36:19.629442Z"
        },
        "id": "1a88ddcc"
      },
      "outputs": [],
      "source": [
        "df=pd.read_csv(\"data_fitting.csv\")"
      ]
    },
    {
      "cell_type": "code",
      "execution_count": null,
      "id": "8fdb28c5",
      "metadata": {
        "ExecuteTime": {
          "end_time": "2024-05-09T18:36:19.645336Z",
          "start_time": "2024-05-09T18:36:19.637312Z"
        },
        "id": "8fdb28c5",
        "outputId": "c38e28ca-222b-479b-f92c-5e0782383057"
      },
      "outputs": [
        {
          "name": "stdout",
          "output_type": "stream",
          "text": [
            "    xdata  ydata\n",
            "0   -10.0    1.2\n",
            "1    -9.0    4.2\n",
            "2    -8.0    6.7\n",
            "3    -7.0    8.3\n",
            "4    -6.0   10.6\n",
            "5    -5.0   11.7\n",
            "6    -4.0   13.5\n",
            "7    -3.0   14.5\n",
            "8    -2.0   15.7\n",
            "9    -1.0   16.1\n",
            "10    0.0   16.6\n",
            "11    1.0   16.0\n",
            "12    2.0   15.4\n",
            "13    3.0   14.4\n",
            "14    4.0   14.2\n",
            "15    5.0   12.7\n",
            "16    6.0   10.3\n",
            "17    7.0    8.6\n",
            "18    8.0    6.1\n",
            "19    9.0    3.9\n",
            "20   10.0    2.1\n"
          ]
        }
      ],
      "source": [
        "print(df)"
      ]
    },
    {
      "cell_type": "code",
      "execution_count": null,
      "id": "2f9bcf59",
      "metadata": {
        "ExecuteTime": {
          "end_time": "2024-05-09T18:36:19.657812Z",
          "start_time": "2024-05-09T18:36:19.647465Z"
        },
        "id": "2f9bcf59",
        "outputId": "30c3a3a1-7539-4a84-cc0e-c026549e9045"
      },
      "outputs": [
        {
          "data": {
            "text/html": [
              "<div>\n",
              "<style scoped>\n",
              "    .dataframe tbody tr th:only-of-type {\n",
              "        vertical-align: middle;\n",
              "    }\n",
              "\n",
              "    .dataframe tbody tr th {\n",
              "        vertical-align: top;\n",
              "    }\n",
              "\n",
              "    .dataframe thead th {\n",
              "        text-align: right;\n",
              "    }\n",
              "</style>\n",
              "<table border=\"1\" class=\"dataframe\">\n",
              "  <thead>\n",
              "    <tr style=\"text-align: right;\">\n",
              "      <th></th>\n",
              "      <th>xdata</th>\n",
              "      <th>ydata</th>\n",
              "    </tr>\n",
              "  </thead>\n",
              "  <tbody>\n",
              "    <tr>\n",
              "      <th>0</th>\n",
              "      <td>-10.0</td>\n",
              "      <td>1.2</td>\n",
              "    </tr>\n",
              "    <tr>\n",
              "      <th>1</th>\n",
              "      <td>-9.0</td>\n",
              "      <td>4.2</td>\n",
              "    </tr>\n",
              "    <tr>\n",
              "      <th>2</th>\n",
              "      <td>-8.0</td>\n",
              "      <td>6.7</td>\n",
              "    </tr>\n",
              "    <tr>\n",
              "      <th>3</th>\n",
              "      <td>-7.0</td>\n",
              "      <td>8.3</td>\n",
              "    </tr>\n",
              "    <tr>\n",
              "      <th>4</th>\n",
              "      <td>-6.0</td>\n",
              "      <td>10.6</td>\n",
              "    </tr>\n",
              "  </tbody>\n",
              "</table>\n",
              "</div>"
            ],
            "text/plain": [
              "   xdata  ydata\n",
              "0  -10.0    1.2\n",
              "1   -9.0    4.2\n",
              "2   -8.0    6.7\n",
              "3   -7.0    8.3\n",
              "4   -6.0   10.6"
            ]
          },
          "execution_count": 4,
          "metadata": {},
          "output_type": "execute_result"
        }
      ],
      "source": [
        "df.head()"
      ]
    },
    {
      "cell_type": "code",
      "execution_count": null,
      "id": "a71d5ac4",
      "metadata": {
        "ExecuteTime": {
          "end_time": "2024-05-09T18:36:58.452739Z",
          "start_time": "2024-05-09T18:36:58.448104Z"
        },
        "id": "a71d5ac4",
        "outputId": "0251555d-dc31-4ed5-95b5-fb592d841528"
      },
      "outputs": [
        {
          "name": "stdout",
          "output_type": "stream",
          "text": [
            "[-10.  -9.  -8.  -7.  -6.  -5.  -4.  -3.  -2.  -1.   0.   1.   2.   3.\n",
            "   4.   5.   6.   7.   8.   9.  10.]\n",
            "[ 1.2  4.2  6.7  8.3 10.6 11.7 13.5 14.5 15.7 16.1 16.6 16.  15.4 14.4\n",
            " 14.2 12.7 10.3  8.6  6.1  3.9  2.1]\n",
            "<class 'numpy.ndarray'>\n"
          ]
        }
      ],
      "source": [
        "xdata=df['xdata'].values  #Will only print values\n",
        "ydata=df['ydata'].values\n",
        "print(xdata)\n",
        "print(ydata)\n",
        "print(type(xdata))"
      ]
    },
    {
      "cell_type": "code",
      "execution_count": null,
      "id": "33ddb5e1",
      "metadata": {
        "ExecuteTime": {
          "end_time": "2024-05-09T18:36:19.872090Z",
          "start_time": "2024-05-09T18:36:19.666787Z"
        },
        "id": "33ddb5e1",
        "outputId": "c821ef99-30fc-41f5-a465-ac8dd565cac0"
      },
      "outputs": [
        {
          "data": {
            "text/plain": [
              "[<matplotlib.lines.Line2D at 0x7fbefda5a730>]"
            ]
          },
          "execution_count": 6,
          "metadata": {},
          "output_type": "execute_result"
        },
        {
          "data": {
            "image/png": "[encoded data removed]",
            "text/plain": [
              "<Figure size 432x288 with 1 Axes>"
            ]
          },
          "metadata": {
            "needs_background": "light"
          },
          "output_type": "display_data"
        }
      ],
      "source": [
        " plt.plot(xdata,ydata,'o')"
      ]
    },
    {
      "cell_type": "markdown",
      "id": "9f8045fd",
      "metadata": {
        "id": "9f8045fd"
      },
      "source": [
        "This data could probably be fit to many functional forms. Two functional form that fit this data are Guassian function and cosine functtion.\n",
        "\n",
        "1. Guassian function $ y=Ae^{-Bx^2} $\n",
        "\n",
        "2. Cosine Function $ y=Dcos(Ex) $"
      ]
    },
    {
      "cell_type": "code",
      "execution_count": null,
      "id": "71c5a711",
      "metadata": {
        "ExecuteTime": {
          "end_time": "2024-05-09T18:42:43.513512Z",
          "start_time": "2024-05-09T18:42:43.511074Z"
        },
        "id": "71c5a711"
      },
      "outputs": [],
      "source": [
        "from scipy.optimize import curve_fit"
      ]
    },
    {
      "cell_type": "code",
      "execution_count": null,
      "id": "ba23143e",
      "metadata": {
        "ExecuteTime": {
          "end_time": "2024-05-09T18:42:45.425102Z",
          "start_time": "2024-05-09T18:42:45.422428Z"
        },
        "id": "ba23143e"
      },
      "outputs": [],
      "source": [
        "def Gauss(x,A,B):\n",
        "    y=A*np.exp(-1*B*x**2)\n",
        "    return y\n"
      ]
    },
    {
      "cell_type": "code",
      "execution_count": null,
      "id": "53d4ffb0",
      "metadata": {
        "ExecuteTime": {
          "end_time": "2024-05-09T18:42:49.349835Z",
          "start_time": "2024-05-09T18:42:49.345436Z"
        },
        "id": "53d4ffb0",
        "outputId": "7127560c-0556-4ea8-887e-7e67391ca04a"
      },
      "outputs": [
        {
          "name": "stderr",
          "output_type": "stream",
          "text": [
            "<ipython-input-14-41a18021cbb1>:2: RuntimeWarning: overflow encountered in exp\n",
            "  y=A*np.exp(-1*B*x**2)\n"
          ]
        }
      ],
      "source": [
        "parameters, covariance= curve_fit(Gauss,xdata,ydata)"
      ]
    },
    {
      "cell_type": "code",
      "execution_count": null,
      "id": "5429a8aa",
      "metadata": {
        "ExecuteTime": {
          "end_time": "2024-05-09T18:42:52.243370Z",
          "start_time": "2024-05-09T18:42:52.240530Z"
        },
        "id": "5429a8aa",
        "outputId": "b3dd45ea-a222-4741-c20c-d9fbd7eb6459"
      },
      "outputs": [
        {
          "name": "stdout",
          "output_type": "stream",
          "text": [
            "[1.69342863e+01 1.57396009e-02]\n"
          ]
        }
      ],
      "source": [
        "print(parameters)"
      ]
    },
    {
      "cell_type": "code",
      "execution_count": null,
      "id": "cee5454c",
      "metadata": {
        "ExecuteTime": {
          "end_time": "2024-05-09T18:36:20.343816Z",
          "start_time": "2024-05-09T18:35:59.738Z"
        },
        "id": "cee5454c"
      },
      "outputs": [],
      "source": [
        "print(covariance)"
      ]
    },
    {
      "cell_type": "code",
      "execution_count": null,
      "id": "7cdb7432",
      "metadata": {
        "ExecuteTime": {
          "end_time": "2024-05-09T18:42:53.998316Z",
          "start_time": "2024-05-09T18:42:53.995310Z"
        },
        "id": "7cdb7432",
        "outputId": "c56148c1-4a12-4b0e-e0e4-83c8e76ed33f"
      },
      "outputs": [
        {
          "name": "stdout",
          "output_type": "stream",
          "text": [
            "16.934286342773795\n",
            "0.015739600938137456\n"
          ]
        }
      ],
      "source": [
        "fit_A=parameters[0]\n",
        "fit_B=parameters[1]\n",
        "print(fit_A)\n",
        "print(fit_B)"
      ]
    },
    {
      "cell_type": "code",
      "execution_count": null,
      "id": "a3886060",
      "metadata": {
        "ExecuteTime": {
          "end_time": "2024-05-09T18:42:56.905590Z",
          "start_time": "2024-05-09T18:42:56.690612Z"
        },
        "id": "a3886060",
        "outputId": "acbb7cc3-b057-42a6-f4fc-bcbf01aadfe1"
      },
      "outputs": [
        {
          "data": {
            "text/plain": [
              "<matplotlib.legend.Legend at 0x7fbefb8de3a0>"
            ]
          },
          "execution_count": 18,
          "metadata": {},
          "output_type": "execute_result"
        },
        {
          "data": {
            "image/png": "[encoded data removed]",
            "text/plain": [
              "<Figure size 432x288 with 1 Axes>"
            ]
          },
          "metadata": {
            "needs_background": "light"
          },
          "output_type": "display_data"
        }
      ],
      "source": [
        "fit_y=Gauss(xdata,fit_A,fit_B)\n",
        "plt.plot(xdata,ydata,'o',label='data')\n",
        "plt.plot(xdata,fit_y,'-',label='fit')\n",
        "plt.legend()\n"
      ]
    },
    {
      "cell_type": "markdown",
      "id": "e3f57738",
      "metadata": {
        "id": "e3f57738"
      },
      "source": [
        "Calculate the standard error from the covariance matrix, take the sqrt of the diagonal elements of the covariance matrix. This can be done by using function from numpy library"
      ]
    },
    {
      "cell_type": "code",
      "execution_count": null,
      "id": "6c5e7037",
      "metadata": {
        "ExecuteTime": {
          "end_time": "2024-05-09T18:43:08.918398Z",
          "start_time": "2024-05-09T18:43:08.914496Z"
        },
        "id": "6c5e7037",
        "outputId": "7563cfbb-e5cf-4db8-959d-28f4b2c8b444"
      },
      "outputs": [
        {
          "name": "stdout",
          "output_type": "stream",
          "text": [
            "[0.35658082 0.0008652 ]\n",
            "[1.27149878e-01 7.48572394e-07]\n"
          ]
        }
      ],
      "source": [
        "SE=np.sqrt(np.diag(covariance))\n",
        "print(SE)\n",
        "print(np.diag(covariance))"
      ]
    },
    {
      "cell_type": "code",
      "execution_count": null,
      "id": "fd4bdc51",
      "metadata": {
        "ExecuteTime": {
          "end_time": "2024-05-09T18:43:11.499606Z",
          "start_time": "2024-05-09T18:43:11.496254Z"
        },
        "id": "fd4bdc51",
        "outputId": "e7bf4e22-0cfa-48e0-f8c8-3c3c1392ea6f"
      },
      "outputs": [
        {
          "name": "stdout",
          "output_type": "stream",
          "text": [
            "The value of A is 16.93429 with a standard error of 0.35658\n",
            "The value of B is 0.01574 with a standard error of 0.00087\n"
          ]
        }
      ],
      "source": [
        "SE_A=SE[0]\n",
        "SE_B=SE[1]\n",
        "\n",
        "print(F\"The value of A is {fit_A:.5f} with a standard error of {SE_A:.5f}\")\n",
        "print(F\"The value of B is {fit_B:.5f} with a standard error of {SE_B:.5f}\")"
      ]
    },
    {
      "cell_type": "code",
      "execution_count": null,
      "id": "7f2fff68",
      "metadata": {
        "ExecuteTime": {
          "end_time": "2024-05-09T18:43:15.340436Z",
          "start_time": "2024-05-09T18:43:15.337655Z"
        },
        "id": "7f2fff68"
      },
      "outputs": [],
      "source": [
        "def cos_fun(x,D,E):\n",
        "    y=D*np.cos(E*x)\n",
        "    return y"
      ]
    },
    {
      "cell_type": "code",
      "execution_count": null,
      "id": "5494658e",
      "metadata": {
        "ExecuteTime": {
          "end_time": "2024-05-09T18:43:18.571645Z",
          "start_time": "2024-05-09T18:43:18.566778Z"
        },
        "id": "5494658e",
        "outputId": "04cb04e8-9597-4cc3-9336-bf7dd540035d"
      },
      "outputs": [
        {
          "name": "stdout",
          "output_type": "stream",
          "text": [
            "[16.31473263  0.14649402]\n",
            "[[1.23014875e-02 4.53865121e-05]\n",
            " [4.53865121e-05 8.14037334e-07]]\n"
          ]
        }
      ],
      "source": [
        "guess=[16, 0.1] # Research in cos function\n",
        "parameters,covariance=curve_fit(cos_fun,xdata,ydata,p0=guess)\n",
        "print(parameters)\n",
        "print(covariance)"
      ]
    },
    {
      "cell_type": "code",
      "execution_count": null,
      "id": "0ca7e07d",
      "metadata": {
        "ExecuteTime": {
          "end_time": "2024-05-09T18:43:21.409616Z",
          "start_time": "2024-05-09T18:43:21.406731Z"
        },
        "id": "0ca7e07d"
      },
      "outputs": [],
      "source": [
        "fit_D=parameters[0]\n",
        "fit_E=parameters[1]\n",
        "fit_y=cos_fun(xdata,fit_D,fit_E)"
      ]
    },
    {
      "cell_type": "code",
      "execution_count": null,
      "id": "44d66ca0",
      "metadata": {
        "ExecuteTime": {
          "end_time": "2024-05-09T18:43:23.778654Z",
          "start_time": "2024-05-09T18:43:23.616861Z"
        },
        "id": "44d66ca0",
        "outputId": "9ae1cc0a-c948-444c-8fb2-049ab0b7cf10"
      },
      "outputs": [
        {
          "data": {
            "text/plain": [
              "[<matplotlib.lines.Line2D at 0x7fbefb833400>]"
            ]
          },
          "execution_count": 24,
          "metadata": {},
          "output_type": "execute_result"
        },
        {
          "data": {
            "image/png": "[encoded data removed]",
            "text/plain": [
              "<Figure size 432x288 with 1 Axes>"
            ]
          },
          "metadata": {
            "needs_background": "light"
          },
          "output_type": "display_data"
        }
      ],
      "source": [
        "plt.plot(xdata,ydata,'o',label='Data')\n",
        "plt.plot(xdata,fit_y,'-',label='Cosine Fit')"
      ]
    },
    {
      "cell_type": "code",
      "execution_count": null,
      "id": "89168463",
      "metadata": {
        "ExecuteTime": {
          "end_time": "2024-05-09T18:36:20.354958Z",
          "start_time": "2024-05-09T18:35:59.747Z"
        },
        "id": "89168463"
      },
      "outputs": [],
      "source": [
        "SE=np.sqrt(np.diag(covariance))\n",
        "print(SE)"
      ]
    },
    {
      "cell_type": "code",
      "execution_count": null,
      "id": "2b76109b",
      "metadata": {
        "ExecuteTime": {
          "end_time": "2024-05-09T19:30:26.302552Z",
          "start_time": "2024-05-09T19:30:26.299205Z"
        },
        "id": "2b76109b",
        "outputId": "347e32c2-3cbe-4300-c7be-de81768b8a25"
      },
      "outputs": [
        {
          "name": "stdout",
          "output_type": "stream",
          "text": [
            "The value of D is 16.31473263118848 with standard error 0.3565808159352346\n",
            "The value of E is 0.1464940225344265 with standard error 0.0008652007826772984\n"
          ]
        }
      ],
      "source": [
        "SE_D=SE[0]\n",
        "SE_E=SE[1]\n",
        "print(F\"The value of D is {fit_D} with standard error {SE_D}\")\n",
        "print(F\"The value of E is {fit_E} with standard error {SE_E}\")"
      ]
    }
  ],
  "metadata": {
    "kernelspec": {
      "display_name": "Python 3.8",
      "language": "python",
      "name": "python3"
    },
    "language_info": {
      "codemirror_mode": {
        "name": "ipython",
        "version": 3
      },
      "file_extension": ".py",
      "mimetype": "text/x-python",
      "name": "python",
      "nbconvert_exporter": "python",
      "pygments_lexer": "ipython3",
      "version": "3.8.10"
    },
    "toc": {
      "base_numbering": 1,
      "nav_menu": {},
      "number_sections": true,
      "sideBar": true,
      "skip_h1_title": false,
      "title_cell": "Table of Contents",
      "title_sidebar": "Contents",
      "toc_cell": false,
      "toc_position": {},
      "toc_section_display": true,
      "toc_window_display": false
    },
    "varInspector": {
      "cols": {
        "lenName": 16,
        "lenType": 16,
        "lenVar": 40
      },
      "kernels_config": {
        "python": {
          "delete_cmd_postfix": "",
          "delete_cmd_prefix": "del ",
          "library": "var_list.py",
          "varRefreshCmd": "print(var_dic_list())"
        },
        "r": {
          "delete_cmd_postfix": ") ",
          "delete_cmd_prefix": "rm(",
          "library": "var_list.r",
          "varRefreshCmd": "cat(var_dic_list()) "
        }
      },
      "types_to_exclude": [
        "module",
        "function",
        "builtin_function_or_method",
        "instance",
        "_Feature"
      ],
      "window_display": false
    },
    "colab": {
      "provenance": [],
      "include_colab_link": true
    }
  },
  "nbformat": 4,
  "nbformat_minor": 5
}